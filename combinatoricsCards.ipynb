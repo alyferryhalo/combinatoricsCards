{
 "cells": [
  {
   "cell_type": "markdown",
   "metadata": {},
   "source": [
    "## Колода карт\n",
    "\n",
    "Из хорошо перетасованной колоды карт (от девяток до тузов, 4 масти, всего 24 карты) вам выдают 6 карт подряд. С какой вероятностью выданные карты в сумме дают 63 очка? \n",
    "Считайте, что:\n",
    "1. валет - это 11 очков, \n",
    "2. дама - 12 очков, \n",
    "3. король - 13 очков, \n",
    "4. туз - 14 очков. \n",
    "\n",
    "Число очков для остальных карт совпадает с их номиналом.\n",
    "\n",
    "Ответ округлите до шестого знака после точки."
   ]
  },
  {
   "cell_type": "code",
   "execution_count": 1,
   "metadata": {},
   "outputs": [],
   "source": [
    "import itertools\n",
    "import numpy as np"
   ]
  },
  {
   "cell_type": "code",
   "execution_count": 2,
   "metadata": {},
   "outputs": [],
   "source": [
    "cardDict = { 'девятьКрест' : 9, 'десятьКрест' : 10, 'валетКрест' : 11, 'дамаКрест' : 12, 'корольКрест' : 13, 'тузКрест' : 14,\n",
    "           'девятьПики' : 9, 'десятьПики' : 10, 'валетПики' : 11, 'дамаПики' : 12, 'корольПики' : 13, 'тузПики' : 14, \n",
    "           'девятьБубны' : 9, 'десятьБубны' : 10, 'валетБубны' : 11, 'дамаБубны' : 12, 'корольБубны' : 13, 'тузБубны' : 14, \n",
    "           'девятьЧерви' : 9, 'десятьЧерви' : 10, 'валетЧерви' : 11, 'дамаЧерви' : 12, 'корольЧерви' : 13, 'тузЧерви' : 14 }"
   ]
  },
  {
   "cell_type": "code",
   "execution_count": 3,
   "metadata": {},
   "outputs": [],
   "source": [
    "res = list(itertools.combinations(cardDict.values(), 6))"
   ]
  },
  {
   "cell_type": "code",
   "execution_count": 5,
   "metadata": {},
   "outputs": [
    {
     "data": {
      "text/plain": [
       "134596"
      ]
     },
     "execution_count": 5,
     "metadata": {},
     "output_type": "execute_result"
    }
   ],
   "source": [
    "len(res)"
   ]
  },
  {
   "cell_type": "code",
   "execution_count": 6,
   "metadata": {},
   "outputs": [
    {
     "data": {
      "text/plain": [
       "list"
      ]
     },
     "execution_count": 6,
     "metadata": {},
     "output_type": "execute_result"
    }
   ],
   "source": [
    "type(res)"
   ]
  },
  {
   "cell_type": "code",
   "execution_count": 14,
   "metadata": {},
   "outputs": [],
   "source": [
    "resNP = np.array(res)\n",
    "resNPsum = resNP.sum(axis=1)"
   ]
  },
  {
   "cell_type": "code",
   "execution_count": 15,
   "metadata": {},
   "outputs": [
    {
     "name": "stdout",
     "output_type": "stream",
     "text": [
      "{56: 6, 57: 32, 58: 124, 59: 320, 60: 734, 61: 1456, 62: 2570, 63: 4128, 64: 6066, 65: 8304, 66: 10468, 67: 12384, 68: 13626, 69: 14160, 70: 13626, 71: 12384, 72: 10468, 73: 8304, 74: 6066, 75: 4128, 76: 2570, 77: 1456, 78: 734, 79: 320, 80: 124, 81: 32, 82: 6}\n"
     ]
    }
   ],
   "source": [
    "unique, counts = np.unique(resNPsum, return_counts=True)\n",
    "print(dict(zip(unique, counts)))"
   ]
  },
  {
   "cell_type": "code",
   "execution_count": 16,
   "metadata": {},
   "outputs": [],
   "source": [
    "p = round(4128 / 134596, 6)"
   ]
  },
  {
   "cell_type": "code",
   "execution_count": 17,
   "metadata": {},
   "outputs": [
    {
     "data": {
      "text/plain": [
       "0.03067"
      ]
     },
     "execution_count": 17,
     "metadata": {},
     "output_type": "execute_result"
    }
   ],
   "source": [
    "p"
   ]
  }
 ],
 "metadata": {
  "kernelspec": {
   "display_name": "Python 3",
   "language": "python",
   "name": "python3"
  },
  "language_info": {
   "codemirror_mode": {
    "name": "ipython",
    "version": 3
   },
   "file_extension": ".py",
   "mimetype": "text/x-python",
   "name": "python",
   "nbconvert_exporter": "python",
   "pygments_lexer": "ipython3",
   "version": "3.8.2"
  }
 },
 "nbformat": 4,
 "nbformat_minor": 4
}
